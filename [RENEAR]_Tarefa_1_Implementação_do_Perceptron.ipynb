{
  "nbformat": 4,
  "nbformat_minor": 0,
  "metadata": {
    "colab": {
      "name": "[RENEAR] Tarefa 1 -Implementação do Perceptron.ipynb",
      "provenance": [],
      "collapsed_sections": []
    },
    "kernelspec": {
      "name": "python3",
      "display_name": "Python 3"
    }
  },
  "cells": [
    {
      "cell_type": "markdown",
      "metadata": {
        "id": "O_crD7m6gxRH",
        "colab_type": "text"
      },
      "source": [
        "----\n",
        "\n",
        "**Disciplina**: Redes Neurais Artificiais (RENEAR)\n",
        "\n",
        "**Professor**: Dr. Francisco de Assis Boldt\n",
        "\n",
        "**Programa**: Mestrado Profissional em Computação Aplicada\n",
        "\n",
        "**Aluno**: Arthur Gomes da Vitoria\n",
        "\n",
        "**Data de entrega**: 31/05/2020\n",
        "\n",
        "----"
      ]
    },
    {
      "cell_type": "markdown",
      "metadata": {
        "id": "UNcm_uiNmqm6",
        "colab_type": "text"
      },
      "source": [
        "**Exercício**: Implementar uma arquitetura clássica do perceptron para um problema binário sendo que essa deve estar em uma classe do tipo BaseEstimator (Ex.: Aula 10 de Reconhecimento de Padrões). Testar com uma base de dados binária do módulo datasets do scikit-learn (Ex.: load_breast_cancer). A entrega do trabalho deverá ser um link para sua implementação na conta do estudante no Github.\n",
        "\n",
        "Dúvidas sobre a atividade serão tiradas no fórum do tópico no AVA."
      ]
    },
    {
      "cell_type": "markdown",
      "metadata": {
        "id": "Z2csBFa4nJEy",
        "colab_type": "text"
      },
      "source": [
        "**Solução**: "
      ]
    },
    {
      "cell_type": "markdown",
      "metadata": {
        "id": "1bkozuB2QMK2",
        "colab_type": "text"
      },
      "source": [
        "No primeiro momento, estamos estudando o modelo de rede neural intitulado o mais simples que existe, o Perceptron de Camada Única, e isso pode ser visualizado\n",
        "no seguinte link que possui diversas arquiteturas desde as mais simples até as mais complexas: https://www.asimovinstitute.org/neural-network-zoo/.\n",
        "\n",
        "A medida que formos avançando na disciplina explorando modelos de redes neurais cada vez mais avançados e complexos, como as Redes Neurais Artificiais, acredito que vamos compreender ainda mais a importância desse momento, visto que a maioria desses modelos foram inspirados no Perceptron de Camada Única. Dessa forma, entender os seus fundamentos e compreender o modelo se torna uma tarefa importante inicialmente no aprendizado profundo (Deep Learning).\n",
        "\n",
        "O Perceptron, inventado por Frank Rosenblatt no Cornell Aeronautical Laboratory na década de 60, é um classificador binário que processa uma ou mais entradas  para produzir uma saída, vale ressaltar que esse não possui camadas intermediárias. Apesar de simples esse apresenta algumas limitações específicas não sendo recomendada a sua utilização em soluções de problemas mais complexos, como dados que não são linearmente separáveis. Suas fraquezas inspiraram o desenvolvimento de modelos mais avançados de redes neurais.\n",
        "\n",
        "O Perceptron classifica instâncias processando uma combinação linear entre as variáveis explicativas e os parâmetros do modelo utilizando uma função de ativação. Esses parâmetros são chamados de pesos sinápticos que expressam a importância, através de números reais, das variáveis de entrada para a saída. A intenção dessa arquitetura é aprender esses pesos de forma que a instância de saída produzida esteja correta para cada exemplo. Para isso, o algoritmo faz atualizações iterativas até chegar aos melhores pesos dado o conjunto de dados de entrada.\n",
        "\n",
        "Embora existam diversas bibliotecas prontas com implementações de redes neurais como o Tensow Flow, o Keras, Pytorch entre outros no primeiro momento, a estratégia do professor de implementarmos uma rede neural mais simples utilizando alguma ferramenta, como por exemplo o Python, torna o processo de aprendizagem mais rico embora dê mais trabalho."
      ]
    },
    {
      "cell_type": "markdown",
      "metadata": {
        "id": "iTEzF2tYZKqT",
        "colab_type": "text"
      },
      "source": [
        "**CARREGANDO AS BIBLIOTECAS**"
      ]
    },
    {
      "cell_type": "code",
      "metadata": {
        "id": "enUpfcdoSHyW",
        "colab_type": "code",
        "outputId": "794b70f4-6cb7-45e3-b814-e40fef2f3924",
        "colab": {
          "base_uri": "https://localhost:8080/",
          "height": 245
        }
      },
      "source": [
        "# Mlxtend (machine learning extensions)\n",
        "!pip install mlxtend"
      ],
      "execution_count": 1,
      "outputs": [
        {
          "output_type": "stream",
          "text": [
            "Requirement already satisfied: mlxtend in /usr/local/lib/python3.6/dist-packages (0.14.0)\n",
            "Requirement already satisfied: scikit-learn>=0.18 in /usr/local/lib/python3.6/dist-packages (from mlxtend) (0.22.2.post1)\n",
            "Requirement already satisfied: setuptools in /usr/local/lib/python3.6/dist-packages (from mlxtend) (46.4.0)\n",
            "Requirement already satisfied: scipy>=0.17 in /usr/local/lib/python3.6/dist-packages (from mlxtend) (1.4.1)\n",
            "Requirement already satisfied: matplotlib>=1.5.1 in /usr/local/lib/python3.6/dist-packages (from mlxtend) (3.2.1)\n",
            "Requirement already satisfied: numpy>=1.10.4 in /usr/local/lib/python3.6/dist-packages (from mlxtend) (1.18.4)\n",
            "Requirement already satisfied: pandas>=0.17.1 in /usr/local/lib/python3.6/dist-packages (from mlxtend) (1.0.3)\n",
            "Requirement already satisfied: joblib>=0.11 in /usr/local/lib/python3.6/dist-packages (from scikit-learn>=0.18->mlxtend) (0.15.1)\n",
            "Requirement already satisfied: pyparsing!=2.0.4,!=2.1.2,!=2.1.6,>=2.0.1 in /usr/local/lib/python3.6/dist-packages (from matplotlib>=1.5.1->mlxtend) (2.4.7)\n",
            "Requirement already satisfied: python-dateutil>=2.1 in /usr/local/lib/python3.6/dist-packages (from matplotlib>=1.5.1->mlxtend) (2.8.1)\n",
            "Requirement already satisfied: cycler>=0.10 in /usr/local/lib/python3.6/dist-packages (from matplotlib>=1.5.1->mlxtend) (0.10.0)\n",
            "Requirement already satisfied: kiwisolver>=1.0.1 in /usr/local/lib/python3.6/dist-packages (from matplotlib>=1.5.1->mlxtend) (1.2.0)\n",
            "Requirement already satisfied: pytz>=2017.2 in /usr/local/lib/python3.6/dist-packages (from pandas>=0.17.1->mlxtend) (2018.9)\n",
            "Requirement already satisfied: six>=1.5 in /usr/local/lib/python3.6/dist-packages (from python-dateutil>=2.1->matplotlib>=1.5.1->mlxtend) (1.12.0)\n"
          ],
          "name": "stdout"
        }
      ]
    },
    {
      "cell_type": "code",
      "metadata": {
        "id": "eUgsf992gtCY",
        "colab_type": "code",
        "colab": {}
      },
      "source": [
        "# As novas versões do Pandas e Matplotlib trazem diversas mensagens de aviso ao desenvolvedor. Vamos desativar isso.\n",
        "import sys\n",
        "import warnings\n",
        "import matplotlib.cbook\n",
        "if not sys.warnoptions:\n",
        "    warnings.simplefilter(\"ignore\")\n",
        "warnings.simplefilter(action='ignore', category=FutureWarning)\n",
        "warnings.filterwarnings(\"ignore\", category=FutureWarning)\n",
        "warnings.filterwarnings(\"ignore\", category=matplotlib.cbook.mplDeprecation)\n",
        "\n",
        "# Imports para manipulação de dados\n",
        "import numpy as np\n",
        "import pandas as pd\n",
        "from sklearn.model_selection import train_test_split\n",
        "\n",
        "# Imports de um conjunto de dados binário\n",
        "from sklearn.datasets import load_iris\n",
        "\n",
        "# Imports para customizar um classificador\n",
        "from sklearn.base import BaseEstimator, ClassifierMixin\n",
        "from collections import Counter\n",
        "\n",
        "# Imports para visualização de dados\n",
        "import matplotlib as m\n",
        "import matplotlib.pyplot as plt\n",
        "from mlxtend.plotting import plot_decision_regions  \n",
        "\n",
        "# Imports para formatação dos gráficos\n",
        "m.rcParams['axes.labelsize'] = 14\n",
        "m.rcParams['xtick.labelsize'] = 12\n",
        "m.rcParams['ytick.labelsize'] = 12\n",
        "m.rcParams['text.color'] = 'k'\n",
        "from matplotlib.pylab import rcParams \n",
        "rcParams['figure.figsize'] = 20,10\n",
        "matplotlib.style.use('ggplot')\n",
        "%matplotlib inline"
      ],
      "execution_count": 0,
      "outputs": []
    },
    {
      "cell_type": "code",
      "metadata": {
        "id": "e0r11BF8alIr",
        "colab_type": "code",
        "colab": {}
      },
      "source": [
        "# Contruindo o algoritmo do modelo Perceptron\n",
        "\n",
        "class Perceptron(BaseEstimator, ClassifierMixin): \n",
        "\n",
        "    def __init__(self, eta = 0.1, epochs = 100): # Função de inicialização da classe\n",
        "\n",
        "        self.eta = eta # eta = taxa de aprendizagem (learning rate) - valores entre 0 e 1\n",
        "        self.epochs = epochs # epoch = número de passagens no conjunto de dados de treino\n",
        "\n",
        "    def fit(self, X, y): # Etapa de treinamento\n",
        "\n",
        "        self.w_ = np.zeros(1 + X.shape[1]) # Inicialização do vetor de peso com valores zerados as redes neurais posteriormente com o a base de treino vão aprender esses valores\n",
        "        self.errors_ = [] # Lista vazia dos erros \n",
        "\n",
        "        for _ in range(self.epochs): # A cada passada os erros serão calculados e assim de acordo com a taxa de aprendizado o algoritmo aprenderá com eles \n",
        "        # e encontrará  os melhores valores para os pesos sinápticos e bias\n",
        "\n",
        "            errors = 0 # Inicilizando o erro com zero para depois ser atualizado de acordo com as passadas\n",
        "            \n",
        "            for xi, target in zip(X, y):\n",
        "                update = self.eta * (target - self.predict(xi)) # O eta ajuda no tamanho da passada \n",
        "                self.w_[1:] +=  update * xi # Atualizando os valores dos pesos que iniciaramde forma aleatória e agora estão com valores reais \n",
        "                self.w_[0] +=  update #\n",
        "                errors += int(update != 0.0)\n",
        "            self.errors_.append(errors) # Guardando os erros a cada passada\n",
        "\n",
        "        return self\n",
        "\n",
        "    def predict(self, X): # Etapa de pre\n",
        "        \n",
        "      return np.where(np.dot(X, self.w_[1:]) + self.w_[0] >= 0.0, 1, 0) # Combinação linear das variáveis explicativas e bias com o vetor de pesose o resultado passará pela função de ativação"
      ],
      "execution_count": 0,
      "outputs": []
    },
    {
      "cell_type": "markdown",
      "metadata": {
        "id": "gS1PtHAPag84",
        "colab_type": "text"
      },
      "source": [
        "De forma a fazer uma comparação do desempenho  do modelo Perceptron vamos construir um algoritmo base que tende a ter o pior desempenho entre os algoritmos de classificação pois apenas pega o valor mais frequente na base de dados de treino e prevê que as novas observações se comportarão conforme a moda da base de treino algoritmo. "
      ]
    },
    {
      "cell_type": "code",
      "metadata": {
        "id": "iYkaGixBjqJ0",
        "colab_type": "code",
        "colab": {}
      },
      "source": [
        "# Construção do algoritmo ZeroR \n",
        "\n",
        "class ZeroR(BaseEstimator, ClassifierMixin):\n",
        "  def __init__(self):\n",
        "    pass\n",
        "  def fit(self, X, y=None):\n",
        "    self.answer = Counter(y).most_common(1)[0][0]\n",
        "  def predict(self, X, y=None):\n",
        "    return np.ones(X.shape[0])*self.answer"
      ],
      "execution_count": 0,
      "outputs": []
    },
    {
      "cell_type": "markdown",
      "metadata": {
        "id": "-1Y75T-IdYHV",
        "colab_type": "text"
      },
      "source": [
        "Agora vamos construir os modelos apresentando os algoritmos implementados ao conjunto de dados. Será utilizada a base de dados do módulo do scikit learn *iris dataset*, base com informações de classificações de plantas."
      ]
    },
    {
      "cell_type": "code",
      "metadata": {
        "id": "Gd9W9WnZi6Lr",
        "colab_type": "code",
        "outputId": "e8fc0bde-07bf-4c36-a04f-3b042ebbb1ac",
        "colab": {
          "base_uri": "https://localhost:8080/",
          "height": 33
        }
      },
      "source": [
        "# Carregando os dados\n",
        "iris = load_iris()\n",
        "iris.keys()"
      ],
      "execution_count": 5,
      "outputs": [
        {
          "output_type": "execute_result",
          "data": {
            "text/plain": [
              "dict_keys(['data', 'target', 'target_names', 'DESCR', 'feature_names', 'filename'])"
            ]
          },
          "metadata": {
            "tags": []
          },
          "execution_count": 5
        }
      ]
    },
    {
      "cell_type": "code",
      "metadata": {
        "id": "BcsdYS5di96h",
        "colab_type": "code",
        "outputId": "1958d749-c908-45f6-a86e-a6bfbc89ff3a",
        "colab": {
          "base_uri": "https://localhost:8080/",
          "height": 1000
        }
      },
      "source": [
        "print(iris.DESCR)"
      ],
      "execution_count": 6,
      "outputs": [
        {
          "output_type": "stream",
          "text": [
            ".. _iris_dataset:\n",
            "\n",
            "Iris plants dataset\n",
            "--------------------\n",
            "\n",
            "**Data Set Characteristics:**\n",
            "\n",
            "    :Number of Instances: 150 (50 in each of three classes)\n",
            "    :Number of Attributes: 4 numeric, predictive attributes and the class\n",
            "    :Attribute Information:\n",
            "        - sepal length in cm\n",
            "        - sepal width in cm\n",
            "        - petal length in cm\n",
            "        - petal width in cm\n",
            "        - class:\n",
            "                - Iris-Setosa\n",
            "                - Iris-Versicolour\n",
            "                - Iris-Virginica\n",
            "                \n",
            "    :Summary Statistics:\n",
            "\n",
            "    ============== ==== ==== ======= ===== ====================\n",
            "                    Min  Max   Mean    SD   Class Correlation\n",
            "    ============== ==== ==== ======= ===== ====================\n",
            "    sepal length:   4.3  7.9   5.84   0.83    0.7826\n",
            "    sepal width:    2.0  4.4   3.05   0.43   -0.4194\n",
            "    petal length:   1.0  6.9   3.76   1.76    0.9490  (high!)\n",
            "    petal width:    0.1  2.5   1.20   0.76    0.9565  (high!)\n",
            "    ============== ==== ==== ======= ===== ====================\n",
            "\n",
            "    :Missing Attribute Values: None\n",
            "    :Class Distribution: 33.3% for each of 3 classes.\n",
            "    :Creator: R.A. Fisher\n",
            "    :Donor: Michael Marshall (MARSHALL%PLU@io.arc.nasa.gov)\n",
            "    :Date: July, 1988\n",
            "\n",
            "The famous Iris database, first used by Sir R.A. Fisher. The dataset is taken\n",
            "from Fisher's paper. Note that it's the same as in R, but not as in the UCI\n",
            "Machine Learning Repository, which has two wrong data points.\n",
            "\n",
            "This is perhaps the best known database to be found in the\n",
            "pattern recognition literature.  Fisher's paper is a classic in the field and\n",
            "is referenced frequently to this day.  (See Duda & Hart, for example.)  The\n",
            "data set contains 3 classes of 50 instances each, where each class refers to a\n",
            "type of iris plant.  One class is linearly separable from the other 2; the\n",
            "latter are NOT linearly separable from each other.\n",
            "\n",
            ".. topic:: References\n",
            "\n",
            "   - Fisher, R.A. \"The use of multiple measurements in taxonomic problems\"\n",
            "     Annual Eugenics, 7, Part II, 179-188 (1936); also in \"Contributions to\n",
            "     Mathematical Statistics\" (John Wiley, NY, 1950).\n",
            "   - Duda, R.O., & Hart, P.E. (1973) Pattern Classification and Scene Analysis.\n",
            "     (Q327.D83) John Wiley & Sons.  ISBN 0-471-22361-1.  See page 218.\n",
            "   - Dasarathy, B.V. (1980) \"Nosing Around the Neighborhood: A New System\n",
            "     Structure and Classification Rule for Recognition in Partially Exposed\n",
            "     Environments\".  IEEE Transactions on Pattern Analysis and Machine\n",
            "     Intelligence, Vol. PAMI-2, No. 1, 67-71.\n",
            "   - Gates, G.W. (1972) \"The Reduced Nearest Neighbor Rule\".  IEEE Transactions\n",
            "     on Information Theory, May 1972, 431-433.\n",
            "   - See also: 1988 MLC Proceedings, 54-64.  Cheeseman et al\"s AUTOCLASS II\n",
            "     conceptual clustering system finds 3 classes in the data.\n",
            "   - Many, many more ...\n"
          ],
          "name": "stdout"
        }
      ]
    },
    {
      "cell_type": "markdown",
      "metadata": {
        "id": "GyATQ-pHeY5S",
        "colab_type": "text"
      },
      "source": [
        "Com o DESC foi possível compreender o problema que estamos solucionando, em que o conjunto de dados possui 4 variáveis explicativas numéricas e uma variável depentende categória com 3 níveis. Como o problema que estamos buscando trabalhar é binário, converteremos as 3 classes em duas a planta é setosa ou não. Para fins de aplicação/aprendizado da técnica utilizaremos somente duas das 4 variáveis explicativas disponíveis para depois podermos visualizarmos o gráfico de dispersão com a linha estimada pelo modelo para separar os dados."
      ]
    },
    {
      "cell_type": "code",
      "metadata": {
        "id": "HSuJ0n1_6c95",
        "colab_type": "code",
        "colab": {}
      },
      "source": [
        "# Obtendo dados de duas classes: Setosa e Não Setosa\n",
        "y = iris.target\n",
        "y = np.where(y == 0, 0, 1)\n",
        "X = iris.data[:, [0, 2]]"
      ],
      "execution_count": 0,
      "outputs": []
    },
    {
      "cell_type": "markdown",
      "metadata": {
        "id": "LxXPgJcvfF1z",
        "colab_type": "text"
      },
      "source": [
        "Dessa forma vamos construir os modelos passando os argumentos necessários, no caso do Perceptron a taxa de aprendizagem e o número de passadas pela base de treino. A métrica de avaliação do desempenho do modelo será a acurácia."
      ]
    },
    {
      "cell_type": "code",
      "metadata": {
        "id": "6AqKwDDKLHIi",
        "colab_type": "code",
        "colab": {}
      },
      "source": [
        "class PerformanceEvaluator():\n",
        "  def __init__(self, X, y):\n",
        "    self.X_train, self.X_test, self.y_train, self.y_test = train_test_split(X, y, test_size=0.40, random_state = 42)\n",
        "  def score(self, clf):\n",
        "    clf.fit(self.X_train,self.y_train)\n",
        "    return clf.score(self.X_test,self.y_test)\n",
        "  def evaluate(self, clfs):\n",
        "    for name,clf in clfs:\n",
        "      print('{:>25}: {}'.format(name,self.score(clf)))\n",
        "\n",
        "# Criando os modelos\n",
        "clfs = [\n",
        "    ('Perceptron', Perceptron(epochs = 5, eta = 0.001)),\n",
        "    ('ZeroR',ZeroR())\n",
        "]\n",
        "\n",
        "pe = PerformanceEvaluator(X,y)"
      ],
      "execution_count": 0,
      "outputs": []
    },
    {
      "cell_type": "code",
      "metadata": {
        "id": "GzH6ELjrLzmW",
        "colab_type": "code",
        "outputId": "ab46f700-4e30-4aa2-eab9-541791e369dc",
        "colab": {
          "base_uri": "https://localhost:8080/",
          "height": 50
        }
      },
      "source": [
        "pe.evaluate(clfs)"
      ],
      "execution_count": 9,
      "outputs": [
        {
          "output_type": "stream",
          "text": [
            "               Perceptron: 1.0\n",
            "                    ZeroR: 0.6166666666666667\n"
          ],
          "name": "stdout"
        }
      ]
    },
    {
      "cell_type": "markdown",
      "metadata": {
        "id": "s0xqgg6gfrBy",
        "colab_type": "text"
      },
      "source": [
        "Devido a característica do problema que estamos tratando, isto é, linearmente separável, o Perceptron teve um desempenho satisfatório e superior ao modelo ZeroR. Dessa forma, vamos visualizar como ele separou as observações plotando o gráfico de regiões de decisão. Além disso, vamos observar como foi o desempenho do treinamento a cada passagem na base de treino."
      ]
    },
    {
      "cell_type": "code",
      "metadata": {
        "id": "zonCwT4z5-kx",
        "colab_type": "code",
        "outputId": "3e545681-dfc1-4a2a-aba6-ea3cecab06e6",
        "colab": {
          "base_uri": "https://localhost:8080/",
          "height": 33
        }
      },
      "source": [
        "X_train, X_test, y_train, y_test = train_test_split(X, y, test_size=0.40, random_state = 42)\n",
        "\n",
        "# Criando e treinando o modelo\n",
        "clf_Perceptron = Perceptron(epochs = 5, eta = 0.001)\n",
        "clf_Perceptron.fit(X_train, y_train)"
      ],
      "execution_count": 10,
      "outputs": [
        {
          "output_type": "execute_result",
          "data": {
            "text/plain": [
              "Perceptron(epochs=5, eta=0.001)"
            ]
          },
          "metadata": {
            "tags": []
          },
          "execution_count": 10
        }
      ]
    },
    {
      "cell_type": "code",
      "metadata": {
        "id": "TCLba4z44WEh",
        "colab_type": "code",
        "outputId": "459ee2e0-c607-4742-ab32-e37066b1b533",
        "colab": {
          "base_uri": "https://localhost:8080/",
          "height": 457
        }
      },
      "source": [
        "# Plot\n",
        "print('Pesos (Weights): %s' % clf_Perceptron.w_)\n",
        "rcParams['figure.figsize'] = 20, 6\n",
        "\n",
        "# Plot\n",
        "plt.subplot(121)\n",
        "plot_decision_regions(X_train, y_train, clf = clf_Perceptron)\n",
        "plt.title('Perceptron')\n",
        "plt.xlabel('Comprimento da sépala [cm]')\n",
        "plt.ylabel('Comprimento da pétala [cm]')\n",
        "L = plt.legend()\n",
        "L.get_texts()[0].set_text('Setosa')\n",
        "L.get_texts()[1].set_text('Não Setosa')\n",
        "plt.subplot(122)\n",
        "plt.plot(range(1, len(clf_Perceptron.errors_)+1), clf_Perceptron.errors_, marker = 'o')\n",
        "plt.xlabel('Iterações')\n",
        "plt.ylabel('Classificações Incorretas')\n",
        "plt.tight_layout()"
      ],
      "execution_count": 11,
      "outputs": [
        {
          "output_type": "stream",
          "text": [
            "Pesos (Weights): [-0.001  -0.0025  0.0065]\n"
          ],
          "name": "stdout"
        },
        {
          "output_type": "display_data",
          "data": {
            "image/png": "[encoded data removed]",
            "text/plain": [
              "<Figure size 1440x432 with 2 Axes>"
            ]
          },
          "metadata": {
            "tags": [],
            "needs_background": "light"
          }
        }
      ]
    },
    {
      "cell_type": "markdown",
      "metadata": {
        "id": "egYEzRtHg6kx",
        "colab_type": "text"
      },
      "source": [
        "Conforme era esperado, devido ao desempenho na métrica de avaliação, o modelo Perceptron classificou perfeitamente as duas classes de flores Setosa e Não Setosa. No gráfico de iterações é possível perceber que a taxa de erro despencou na primeira passagem, isto quer dizer que com 1 iteração o modelo convergiu, isto é, encontrou os melhores valores para os parâmetros. As demais passagens foram apenas para corroborar com os valores já encontrados dos pesos sinapticos e bias. Essa etapa de número de passadas é extremamente importante pois pode causar tanto **underfitting** quanto **overfitting**."
      ]
    }
  ]
}