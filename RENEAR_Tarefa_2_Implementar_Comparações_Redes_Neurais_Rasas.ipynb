{
  "nbformat": 4,
  "nbformat_minor": 0,
  "metadata": {
    "colab": {
      "name": "RENEAR_Tarefa 2_Implementar_Comparações_Redes_Neurais_Rasas.ipynb",
      "provenance": [],
      "collapsed_sections": []
    },
    "kernelspec": {
      "name": "python3",
      "display_name": "Python 3"
    }
  },
  "cells": [
    {
      "cell_type": "markdown",
      "metadata": {
        "id": "O_crD7m6gxRH",
        "colab_type": "text"
      },
      "source": [
        "----\n",
        "\n",
        "**Disciplina**: Redes Neurais Artificiais (RENEAR)\n",
        "\n",
        "**Professor**: Dr. Francisco de Assis Boldt\n",
        "\n",
        "**Programa**: Mestrado Profissional em Computação Aplicada (MPCA)\n",
        "\n",
        "**Aluno**: Arthur Gomes da Vitoria\n",
        "\n",
        "**Data de entrega**: 12/06/2020\n",
        "\n",
        "----"
      ]
    },
    {
      "cell_type": "markdown",
      "metadata": {
        "id": "UNcm_uiNmqm6",
        "colab_type": "text"
      },
      "source": [
        "**Exercício**: Utilizar a função sklearn.datasets.make_classification do scikit learn para fazer conjunto de dados binários de diferentes tamanhos e distribuições de classe. Com isso, comparar algumas arquiteturas rasas, por exemplo, implementar um perceptron e o compará-lo com o Perceptron do scikit learn. Outro exemplo seria verificar a influência da função de custo '*hinge*' em um classificador do tipo SGD com uma SVM.\n",
        "\n",
        "Esses foram apenas dois exemplos, entretanto, espera-se que o aluno nesta tarefa os códigos utilizados entre os alunos sejam bem diferentes."
      ]
    },
    {
      "cell_type": "markdown",
      "metadata": {
        "id": "Z2csBFa4nJEy",
        "colab_type": "text"
      },
      "source": [
        "**Solução**: "
      ]
    },
    {
      "cell_type": "markdown",
      "metadata": {
        "id": "iTEzF2tYZKqT",
        "colab_type": "text"
      },
      "source": [
        "**CARREGANDO AS BIBLIOTECAS**"
      ]
    },
    {
      "cell_type": "code",
      "metadata": {
        "id": "vaqdVr6CXfnC",
        "colab_type": "code",
        "colab": {
          "base_uri": "https://localhost:8080/",
          "height": 82
        },
        "outputId": "90c6a0b4-2d7c-43bd-f374-e7f46d258ab1"
      },
      "source": [
        "# As novas versões do Pandas e Matplotlib trazem diversas mensagens de aviso ao desenvolvedor. Vamos desativar isso.\n",
        "import sys\n",
        "import warnings\n",
        "import matplotlib.cbook\n",
        "if not sys.warnoptions:\n",
        "    warnings.simplefilter(\"ignore\")\n",
        "warnings.simplefilter(action='ignore', category=FutureWarning)\n",
        "warnings.filterwarnings(\"ignore\", category=FutureWarning)\n",
        "warnings.filterwarnings(\"ignore\", category=matplotlib.cbook.mplDeprecation)\n",
        "\n",
        "# Imports para criação conjuntos de dados sintéticos de classificação\n",
        "from sklearn.datasets import make_classification\n",
        "\n",
        "# Imports para manipulação de dados\n",
        "import numpy as np\n",
        "import pandas as pd\n",
        "from sklearn.model_selection import KFold, train_test_split\n",
        "from scipy.sparse import coo_matrix\n",
        "from sklearn.utils import shuffle\n",
        "import time\n",
        "import math\n",
        "import itertools\n",
        "\n",
        "\n",
        "# Imports para customizar um classificador\n",
        "from sklearn.base import BaseEstimator, ClassifierMixin\n",
        "from collections import Counter\n",
        "\n",
        "# Classificador\n",
        "from sklearn.linear_model import Perceptron\n",
        "\n",
        "# Imports para visualização de dados\n",
        "import matplotlib.pyplot as plt\n",
        "import seaborn as sns\n",
        "%pylab inline\n",
        "\n",
        "import random\n",
        "random.seed(30)"
      ],
      "execution_count": 1,
      "outputs": [
        {
          "output_type": "stream",
          "text": [
            "Populating the interactive namespace from numpy and matplotlib\n"
          ],
          "name": "stdout"
        },
        {
          "output_type": "stream",
          "text": [
            "/usr/local/lib/python3.6/dist-packages/IPython/core/magics/pylab.py:161: UserWarning: pylab import has clobbered these variables: ['shuffle']\n",
            "`%matplotlib` prevents importing * from pylab and numpy\n",
            "  \"\\n`%matplotlib` prevents importing * from pylab and numpy\"\n"
          ],
          "name": "stderr"
        }
      ]
    },
    {
      "cell_type": "code",
      "metadata": {
        "id": "e0r11BF8alIr",
        "colab_type": "code",
        "colab": {}
      },
      "source": [
        "# Contruindo o algoritmo do modelo Perceptron\n",
        "\n",
        "class Custom_Perceptron(BaseEstimator, ClassifierMixin): \n",
        "\n",
        "    def __init__(self, eta = 0.1, epochs = 100): # Função de inicialização da classe\n",
        "\n",
        "        self.eta = eta # eta = taxa de aprendizagem (learning rate) - valores entre 0 e 1\n",
        "        self.epochs = epochs # epoch = número de passagens no conjunto de dados de treino\n",
        "\n",
        "    def fit(self, X, y): # Etapa de treinamento\n",
        "\n",
        "        self.w_ = np.zeros(1 + X.shape[1]) # Inicialização do vetor de peso com valores zerados as redes neurais posteriormente com o a base de treino vão aprender esses valores\n",
        "        self.errors_ = [] # Lista vazia dos erros \n",
        "\n",
        "        for _ in range(self.epochs): # A cada passada os erros serão calculados e assim de acordo com a taxa de aprendizado o algoritmo aprenderá com eles \n",
        "        # e encontrará  os melhores valores para os pesos sinápticos e bias\n",
        "\n",
        "            errors = 0 # Inicilizando o erro com zero para depois ser atualizado de acordo com as passadas\n",
        "            \n",
        "            for xi, target in zip(X, y):\n",
        "                update = self.eta * (target - self.predict(xi)) # O eta ajuda no tamanho da passada \n",
        "                self.w_[1:] +=  update * xi # Atualizando os valores dos pesos que iniciaramde forma aleatória e agora estão com valores reais \n",
        "                self.w_[0] +=  update #\n",
        "                errors += int(update != 0.0)\n",
        "            self.errors_.append(errors) # Guardando os erros a cada passada\n",
        "\n",
        "        return self\n",
        "\n",
        "    def predict(self, X): # Etapa de pre\n",
        "        \n",
        "      return np.where(np.dot(X, self.w_[1:]) + self.w_[0] >= 0.0, 1, 0) # Combinação linear das variáveis explicativas e bias com o vetor de pesose o resultado passará pela função de ativação"
      ],
      "execution_count": 0,
      "outputs": []
    },
    {
      "cell_type": "markdown",
      "metadata": {
        "id": "DTdFIDWP8t3D",
        "colab_type": "text"
      },
      "source": [
        "Nesta tarefa, a métrica de avaliação do desempenho dos classificadores utilizada será a acurácia."
      ]
    },
    {
      "cell_type": "code",
      "metadata": {
        "id": "rjydloBcY3zt",
        "colab_type": "code",
        "colab": {}
      },
      "source": [
        "import random\n",
        "\n",
        "def score(clf, X, y, cv = 5, random_state = None):\n",
        "  \n",
        "  if random_state != None:\n",
        "    random.seed(random_state)\n",
        "\n",
        "  X_sparse = coo_matrix(X)\n",
        "  X, X_sparse, y = shuffle(X, X_sparse, y, random_state = random_state)\n",
        "  scores = []\n",
        "\n",
        "  if cv != None:\n",
        "\n",
        "    \n",
        "    t0 = time.time()\n",
        "    kf = KFold(n_splits=cv, random_state = random_state)\n",
        "    for train, test in kf.split(X, y):\n",
        "      clf.fit(X[train],y[train])\n",
        "      scores.append(clf.score(X[test],y[test]))\n",
        "    t1 = time.time()\n",
        "\n",
        "  elif cv == None:\n",
        "    \n",
        "    t0 = time.time()\n",
        "    X_train, X_test, y_train, y_test = train_test_split(X, y, test_size = 0.3, random_state = random_state)\n",
        "    clf.fit(X_train,y_train)\n",
        "    scores.append(clf.score(X_test,y_test))\n",
        "    t1 = time.time()\n",
        "\n",
        "  return np.mean(scores), np.std(scores), np.min(scores), np.max(scores), np.median(scores), t1 - t0"
      ],
      "execution_count": 0,
      "outputs": []
    },
    {
      "cell_type": "code",
      "metadata": {
        "id": "UrFxw_4hY_KB",
        "colab_type": "code",
        "colab": {}
      },
      "source": [
        "class PerformanceEvaluator():\n",
        "  def __init__(self):\n",
        "    self.datasets = []\n",
        "    self.classifiers = []\n",
        "    \n",
        "  def addDataset(self, dataset):\n",
        "    self.datasets.append(dataset)\n",
        "\n",
        "  def addClassifier(self, classifier):\n",
        "    self.classifiers.append(classifier)\n",
        "\n",
        "  def performance(self, cv = 5, random_state = None):\n",
        "    \n",
        "    statistics = ['mean', 'std', 'min', 'max', 'median', 'time']\n",
        "\n",
        "    print('[#Samp;#Feat;Dist.]\\t', end='|')\n",
        "    for classifiername, classifier in self.classifiers:\n",
        "      for statistic in statistics:\n",
        "        print(\"%s [%s]\" % (classifiername, statistic), end='\\t|')\n",
        "    print()\n",
        "    \n",
        "    for datasetname, X, y in self.datasets:\n",
        "      print(datasetname, end= '\\t| ')\n",
        "      for classifiername, clf in self.classifiers:\n",
        "        results = score(clf = classifier, X = X, y = y, cv = cv, random_state = random_state)\n",
        "        for result in results:\n",
        "          print('{0:.4f}'.format(result), end='\\t\\t\\t| ')\n",
        "      print()"
      ],
      "execution_count": 0,
      "outputs": []
    },
    {
      "cell_type": "markdown",
      "metadata": {
        "id": "iyFeo4_q5t0q",
        "colab_type": "text"
      },
      "source": [
        "O algoritmo de classificação selecionado nesta tarefa é a arquitetura rasa Perceptron implementada pelo autor da tarefa e o desenvolvido pelos autor(es) do *scikit learn*."
      ]
    },
    {
      "cell_type": "code",
      "metadata": {
        "id": "GbMp7AttZRgv",
        "colab_type": "code",
        "colab": {}
      },
      "source": [
        "exp = PerformanceEvaluator()\n",
        "\n",
        "exp.addClassifier(('Custom_Perceptron', Custom_Perceptron(epochs = 1000, eta = 0.0001))) # Mesmo default do SKLearn\n",
        "exp.addClassifier(('SKLearn_Perceptron', Perceptron(random_state = 30)))"
      ],
      "execution_count": 0,
      "outputs": []
    },
    {
      "cell_type": "markdown",
      "metadata": {
        "id": "v3RqsgqssvU7",
        "colab_type": "text"
      },
      "source": [
        "No total, um número aleatório entre 20 e 40 conjuntos de dados sintéticos binários serão simulados com diferentes características, isto é, distintas quantidades de instâncias e variáveis explicativas e distribuições de classe. Dentro desses conjuntos, o número de variáveis explicativas está entre 20 e 236 e o número de instâncias varia de 20 a 30.000.\n"
      ]
    },
    {
      "cell_type": "code",
      "metadata": {
        "id": "Ti2lmDu4RTPs",
        "colab_type": "code",
        "outputId": "367809f9-341d-445f-b8d7-e94f2e20dd8a",
        "colab": {
          "base_uri": "https://localhost:8080/",
          "height": 191
        }
      },
      "source": [
        "import random\n",
        "random.seed(30)\n",
        "\n",
        "n_datasets = random.randint(20,41) # Nº de conjunto de dados\n",
        "n_samples = random.sample(list(range(20, 30001)), n_datasets) # Tamanho das amostras\n",
        "n_features = random.choices(range(20, 237), k = n_datasets) # Quantidade de variáveis explicativas\n",
        "weights = random.choices(list(np.arange(0.01, 1, 0.01)), k = n_datasets) # Distribuição das classes\n",
        "\n",
        "lista_datasets = {'n_samples': n_samples, 'n_features': n_features, 'weights': weights}\n",
        "df_datasets = pd.DataFrame(lista_datasets, columns = ['n_samples', 'n_features', 'weights'])\n",
        "\n",
        "df_datasets.head()"
      ],
      "execution_count": 6,
      "outputs": [
        {
          "output_type": "execute_result",
          "data": {
            "text/html": [
              "<div>\n",
              "<style scoped>\n",
              "    .dataframe tbody tr th:only-of-type {\n",
              "        vertical-align: middle;\n",
              "    }\n",
              "\n",
              "    .dataframe tbody tr th {\n",
              "        vertical-align: top;\n",
              "    }\n",
              "\n",
              "    .dataframe thead th {\n",
              "        text-align: right;\n",
              "    }\n",
              "</style>\n",
              "<table border=\"1\" class=\"dataframe\">\n",
              "  <thead>\n",
              "    <tr style=\"text-align: right;\">\n",
              "      <th></th>\n",
              "      <th>n_samples</th>\n",
              "      <th>n_features</th>\n",
              "      <th>weights</th>\n",
              "    </tr>\n",
              "  </thead>\n",
              "  <tbody>\n",
              "    <tr>\n",
              "      <th>0</th>\n",
              "      <td>26499</td>\n",
              "      <td>194</td>\n",
              "      <td>0.68</td>\n",
              "    </tr>\n",
              "    <tr>\n",
              "      <th>1</th>\n",
              "      <td>9496</td>\n",
              "      <td>165</td>\n",
              "      <td>0.82</td>\n",
              "    </tr>\n",
              "    <tr>\n",
              "      <th>2</th>\n",
              "      <td>20041</td>\n",
              "      <td>185</td>\n",
              "      <td>0.51</td>\n",
              "    </tr>\n",
              "    <tr>\n",
              "      <th>3</th>\n",
              "      <td>1004</td>\n",
              "      <td>142</td>\n",
              "      <td>0.42</td>\n",
              "    </tr>\n",
              "    <tr>\n",
              "      <th>4</th>\n",
              "      <td>20397</td>\n",
              "      <td>166</td>\n",
              "      <td>0.23</td>\n",
              "    </tr>\n",
              "  </tbody>\n",
              "</table>\n",
              "</div>"
            ],
            "text/plain": [
              "   n_samples  n_features  weights\n",
              "0      26499         194     0.68\n",
              "1       9496         165     0.82\n",
              "2      20041         185     0.51\n",
              "3       1004         142     0.42\n",
              "4      20397         166     0.23"
            ]
          },
          "metadata": {
            "tags": []
          },
          "execution_count": 6
        }
      ]
    },
    {
      "cell_type": "code",
      "metadata": {
        "id": "9dB55z0qVEp9",
        "colab_type": "code",
        "colab": {}
      },
      "source": [
        "# Loop\n",
        "for i in range(0,len(df_datasets.index)):\n",
        "\n",
        "  # Cria o conjunto de dados com a combinação dos parâmetros aleatoriamente gerados\n",
        "  X, y = make_classification(n_samples = df_datasets.iloc[i,0], n_features = df_datasets.iloc[i,1], weights= [df_datasets.iloc[i,2],1-df_datasets.iloc[i,2]], n_classes=2, shuffle = True)\n",
        "\n",
        "  exp.addDataset(('[{:05}; {:03}; {:.2f}]'.format(df_datasets.iloc[i,0], df_datasets.iloc[i,1], df_datasets.iloc[i,2]), X, y))"
      ],
      "execution_count": 0,
      "outputs": []
    },
    {
      "cell_type": "markdown",
      "metadata": {
        "id": "oJXKEWwKvpbB",
        "colab_type": "text"
      },
      "source": [
        "A distribuição do número de variáveis explicativas, bem como o número de instâncias nos diferentes conjuntos de dados sintéticos binários podem ser visualizados nos gráficos abaixo, respectivamente. Além disso, é possível observar a quantidade de conjuntos de dados sintéticos binários desbalanceados e balanceados.\n"
      ]
    },
    {
      "cell_type": "code",
      "metadata": {
        "id": "vUa_ijhDw5vW",
        "colab_type": "code",
        "colab": {}
      },
      "source": [
        "cats_features, bins_features = pd.cut(df_datasets['n_features'], 4, retbins=True, labels=[\"34-81\", \"82-129\", \"130-176\", \"177-224\"])\n",
        "cats_samples, bins_samples = pd.cut(df_datasets['n_samples'], 4, retbins=True, labels=[\"58-1287\", \"1288-2514\", \"2515-3741\", \"3742-4968\"])\n",
        "\n",
        "df_datasets['balanced'] = math.nan\n",
        "for i in range(0,len(df_datasets.index)):\n",
        "\n",
        "  if df_datasets.weights[i] == 0.5:\n",
        "\n",
        "      df_datasets.loc[i,'balanced'] = 1\n",
        "\n",
        "  else:\n",
        "\n",
        "      df_datasets.loc[i,'balanced'] = 0"
      ],
      "execution_count": 0,
      "outputs": []
    },
    {
      "cell_type": "code",
      "metadata": {
        "id": "km0pjie-i7GK",
        "colab_type": "code",
        "colab": {
          "base_uri": "https://localhost:8080/",
          "height": 296
        },
        "outputId": "bdc224e1-f3eb-4c85-b3bd-71d2fcc7a22e"
      },
      "source": [
        "sns.countplot(x= cats_features)  \n",
        "plt.title('Distribuição do número de variáveis explicativas nos diferentes conjuntos de dados.')\n",
        "plt.xlabel('Nº de variáveis explicativas nos diferentes conjuntos de dados')\n",
        "plt.ylabel('Nº de conjunto de dados')\n",
        "plt.grid(axis='y', alpha=0.75)"
      ],
      "execution_count": 9,
      "outputs": [
        {
          "output_type": "display_data",
          "data": {
            "image/png": "[encoded data removed]",
            "text/plain": [
              "<Figure size 432x288 with 1 Axes>"
            ]
          },
          "metadata": {
            "tags": [],
            "needs_background": "light"
          }
        }
      ]
    },
    {
      "cell_type": "code",
      "metadata": {
        "id": "YOv9Cxyk2DOO",
        "colab_type": "code",
        "colab": {
          "base_uri": "https://localhost:8080/",
          "height": 296
        },
        "outputId": "c8fa4a46-6642-44e0-8ab2-bcfb60fd3680"
      },
      "source": [
        "sns.countplot(x= cats_samples)  \n",
        "plt.title('Distribuição do número de instâncias nos diferentes conjuntos de dadosDistribution of the number of instances in different data sets.')\n",
        "plt.xlabel('Nº de instâncias nos diferentes conjuntos de dados')\n",
        "plt.ylabel('Nº de conjunto de dados')\n",
        "plt.grid(axis='y', alpha=0.75)"
      ],
      "execution_count": 10,
      "outputs": [
        {
          "output_type": "display_data",
          "data": {
            "image/png": "[encoded data removed]",
            "text/plain": [
              "<Figure size 432x288 with 1 Axes>"
            ]
          },
          "metadata": {
            "tags": [],
            "needs_background": "light"
          }
        }
      ]
    },
    {
      "cell_type": "code",
      "metadata": {
        "id": "p1wbUMCW2D-0",
        "colab_type": "code",
        "colab": {
          "base_uri": "https://localhost:8080/",
          "height": 66
        },
        "outputId": "1fe7753d-a708-441a-9dbb-4d9c78b5d12b"
      },
      "source": [
        "df_datasets.balanced.value_counts() # Apenas um de todos os conjuntos de dados sintéticos binários gerados é balanceado os demais são desbalanceados."
      ],
      "execution_count": 11,
      "outputs": [
        {
          "output_type": "execute_result",
          "data": {
            "text/plain": [
              "0.0    36\n",
              "1.0     1\n",
              "Name: balanced, dtype: int64"
            ]
          },
          "metadata": {
            "tags": []
          },
          "execution_count": 11
        }
      ]
    },
    {
      "cell_type": "markdown",
      "metadata": {
        "id": "pj7StcB5pJcs",
        "colab_type": "text"
      },
      "source": [
        "Nos experimentos, serão utilizadas 10-*fold* na validação cruzada de forma a avaliar o desempenho dos classificadores de redes neurais rasas em cada conjunto de dados. Os classificadores em avaliação usam os mesmos dados de treinamento e validação."
      ]
    },
    {
      "cell_type": "code",
      "metadata": {
        "id": "5AikaGlMh3lF",
        "colab_type": "code",
        "outputId": "0e3e3cec-8366-434f-b9a0-062f9995b690",
        "colab": {
          "base_uri": "https://localhost:8080/",
          "height": 655
        }
      },
      "source": [
        "from scipy.sparse import coo_matrix\n",
        "from sklearn.utils import shuffle\n",
        "import random\n",
        "\n",
        "exp.performance(cv = 10, random_state= 30)"
      ],
      "execution_count": 12,
      "outputs": [
        {
          "output_type": "stream",
          "text": [
            "[#Samp;#Feat;Dist.]\t|Custom_Perceptron [mean]\t|Custom_Perceptron [std]\t|Custom_Perceptron [min]\t|Custom_Perceptron [max]\t|Custom_Perceptron [median]\t|Custom_Perceptron [time]\t|SKLearn_Perceptron [mean]\t|SKLearn_Perceptron [std]\t|SKLearn_Perceptron [min]\t|SKLearn_Perceptron [max]\t|SKLearn_Perceptron [median]\t|SKLearn_Perceptron [time]\t|\n",
            "[26499; 194; 0.68]\t| 0.8313\t\t\t| 0.0063\t\t\t| 0.8242\t\t\t| 0.8449\t\t\t| 0.8298\t\t\t| 1.3853\t\t\t| 0.8313\t\t\t| 0.0063\t\t\t| 0.8242\t\t\t| 0.8449\t\t\t| 0.8298\t\t\t| 1.3497\t\t\t| \n",
            "[09496; 165; 0.82]\t| 0.9392\t\t\t| 0.0113\t\t\t| 0.9199\t\t\t| 0.9579\t\t\t| 0.9384\t\t\t| 0.3279\t\t\t| 0.9392\t\t\t| 0.0113\t\t\t| 0.9199\t\t\t| 0.9579\t\t\t| 0.9384\t\t\t| 0.3311\t\t\t| \n",
            "[20041; 185; 0.51]\t| 0.8686\t\t\t| 0.0097\t\t\t| 0.8553\t\t\t| 0.8848\t\t\t| 0.8693\t\t\t| 0.8961\t\t\t| 0.8686\t\t\t| 0.0097\t\t\t| 0.8553\t\t\t| 0.8848\t\t\t| 0.8693\t\t\t| 0.9315\t\t\t| \n",
            "[01004; 142; 0.42]\t| 0.8655\t\t\t| 0.0445\t\t\t| 0.8100\t\t\t| 0.9406\t\t\t| 0.8606\t\t\t| 0.0653\t\t\t| 0.8655\t\t\t| 0.0445\t\t\t| 0.8100\t\t\t| 0.9406\t\t\t| 0.8606\t\t\t| 0.0656\t\t\t| \n",
            "[20397; 166; 0.23]\t| 0.8838\t\t\t| 0.0117\t\t\t| 0.8676\t\t\t| 0.9039\t\t\t| 0.8838\t\t\t| 0.7896\t\t\t| 0.8838\t\t\t| 0.0117\t\t\t| 0.8676\t\t\t| 0.9039\t\t\t| 0.8838\t\t\t| 0.7866\t\t\t| \n",
            "[21438; 158; 0.22]\t| 0.8491\t\t\t| 0.0067\t\t\t| 0.8382\t\t\t| 0.8601\t\t\t| 0.8491\t\t\t| 0.7511\t\t\t| 0.8491\t\t\t| 0.0067\t\t\t| 0.8382\t\t\t| 0.8601\t\t\t| 0.8491\t\t\t| 0.7189\t\t\t| \n",
            "[27120; 214; 0.37]\t| 0.8141\t\t\t| 0.0078\t\t\t| 0.7987\t\t\t| 0.8245\t\t\t| 0.8149\t\t\t| 1.3947\t\t\t| 0.8141\t\t\t| 0.0078\t\t\t| 0.7987\t\t\t| 0.8245\t\t\t| 0.8149\t\t\t| 1.3811\t\t\t| \n",
            "[06901; 044; 0.43]\t| 0.7700\t\t\t| 0.0276\t\t\t| 0.7004\t\t\t| 0.7986\t\t\t| 0.7768\t\t\t| 0.1533\t\t\t| 0.7700\t\t\t| 0.0276\t\t\t| 0.7004\t\t\t| 0.7986\t\t\t| 0.7768\t\t\t| 0.1605\t\t\t| \n",
            "[08450; 127; 0.74]\t| 0.8675\t\t\t| 0.0096\t\t\t| 0.8509\t\t\t| 0.8828\t\t\t| 0.8698\t\t\t| 0.2857\t\t\t| 0.8675\t\t\t| 0.0096\t\t\t| 0.8509\t\t\t| 0.8828\t\t\t| 0.8698\t\t\t| 0.2662\t\t\t| \n",
            "[01608; 087; 0.62]\t| 0.8937\t\t\t| 0.0125\t\t\t| 0.8696\t\t\t| 0.9130\t\t\t| 0.8944\t\t\t| 0.0540\t\t\t| 0.8937\t\t\t| 0.0125\t\t\t| 0.8696\t\t\t| 0.9130\t\t\t| 0.8944\t\t\t| 0.0535\t\t\t| \n",
            "[13035; 199; 0.51]\t| 0.8723\t\t\t| 0.0078\t\t\t| 0.8619\t\t\t| 0.8857\t\t\t| 0.8715\t\t\t| 0.5809\t\t\t| 0.8723\t\t\t| 0.0078\t\t\t| 0.8619\t\t\t| 0.8857\t\t\t| 0.8715\t\t\t| 0.5750\t\t\t| \n",
            "[12346; 210; 0.38]\t| 0.8562\t\t\t| 0.0090\t\t\t| 0.8421\t\t\t| 0.8680\t\t\t| 0.8578\t\t\t| 0.5209\t\t\t| 0.8562\t\t\t| 0.0090\t\t\t| 0.8421\t\t\t| 0.8680\t\t\t| 0.8578\t\t\t| 0.5335\t\t\t| \n",
            "[21043; 074; 0.62]\t| 0.8083\t\t\t| 0.0134\t\t\t| 0.7838\t\t\t| 0.8298\t\t\t| 0.8080\t\t\t| 0.5330\t\t\t| 0.8083\t\t\t| 0.0134\t\t\t| 0.7838\t\t\t| 0.8298\t\t\t| 0.8080\t\t\t| 0.5327\t\t\t| \n",
            "[04413; 037; 0.38]\t| 0.7628\t\t\t| 0.0363\t\t\t| 0.6848\t\t\t| 0.8005\t\t\t| 0.7755\t\t\t| 0.0929\t\t\t| 0.7628\t\t\t| 0.0363\t\t\t| 0.6848\t\t\t| 0.8005\t\t\t| 0.7755\t\t\t| 0.0939\t\t\t| \n",
            "[02684; 072; 0.79]\t| 0.8525\t\t\t| 0.0290\t\t\t| 0.8097\t\t\t| 0.8918\t\t\t| 0.8625\t\t\t| 0.0626\t\t\t| 0.8525\t\t\t| 0.0290\t\t\t| 0.8097\t\t\t| 0.8918\t\t\t| 0.8625\t\t\t| 0.0684\t\t\t| \n",
            "[15143; 088; 0.64]\t| 0.8417\t\t\t| 0.0156\t\t\t| 0.8157\t\t\t| 0.8705\t\t\t| 0.8405\t\t\t| 0.3758\t\t\t| 0.8417\t\t\t| 0.0156\t\t\t| 0.8157\t\t\t| 0.8705\t\t\t| 0.8405\t\t\t| 0.3703\t\t\t| \n",
            "[00269; 187; 0.69]\t| 0.8587\t\t\t| 0.0493\t\t\t| 0.8148\t\t\t| 0.9630\t\t\t| 0.8490\t\t\t| 0.0285\t\t\t| 0.8587\t\t\t| 0.0493\t\t\t| 0.8148\t\t\t| 0.9630\t\t\t| 0.8490\t\t\t| 0.0277\t\t\t| \n",
            "[17136; 108; 0.37]\t| 0.8909\t\t\t| 0.0106\t\t\t| 0.8733\t\t\t| 0.9089\t\t\t| 0.8915\t\t\t| 0.6224\t\t\t| 0.8909\t\t\t| 0.0106\t\t\t| 0.8733\t\t\t| 0.9089\t\t\t| 0.8915\t\t\t| 0.6419\t\t\t| \n",
            "[07971; 182; 0.52]\t| 0.8134\t\t\t| 0.0170\t\t\t| 0.7754\t\t\t| 0.8381\t\t\t| 0.8156\t\t\t| 0.3222\t\t\t| 0.8134\t\t\t| 0.0170\t\t\t| 0.7754\t\t\t| 0.8381\t\t\t| 0.8156\t\t\t| 0.3379\t\t\t| \n",
            "[00867; 085; 0.72]\t| 0.8754\t\t\t| 0.0268\t\t\t| 0.8256\t\t\t| 0.9080\t\t\t| 0.8851\t\t\t| 0.0379\t\t\t| 0.8754\t\t\t| 0.0268\t\t\t| 0.8256\t\t\t| 0.9080\t\t\t| 0.8851\t\t\t| 0.0364\t\t\t| \n",
            "[02400; 133; 0.95]\t| 0.9421\t\t\t| 0.0226\t\t\t| 0.9042\t\t\t| 0.9750\t\t\t| 0.9417\t\t\t| 0.0889\t\t\t| 0.9421\t\t\t| 0.0226\t\t\t| 0.9042\t\t\t| 0.9750\t\t\t| 0.9417\t\t\t| 0.0878\t\t\t| \n",
            "[05259; 060; 0.53]\t| 0.8452\t\t\t| 0.0170\t\t\t| 0.8080\t\t\t| 0.8726\t\t\t| 0.8449\t\t\t| 0.1448\t\t\t| 0.8452\t\t\t| 0.0170\t\t\t| 0.8080\t\t\t| 0.8726\t\t\t| 0.8449\t\t\t| 0.1510\t\t\t| \n",
            "[29790; 160; 0.32]\t| 0.7931\t\t\t| 0.0107\t\t\t| 0.7744\t\t\t| 0.8090\t\t\t| 0.7952\t\t\t| 1.4024\t\t\t| 0.7931\t\t\t| 0.0107\t\t\t| 0.7744\t\t\t| 0.8090\t\t\t| 0.7952\t\t\t| 1.4122\t\t\t| \n",
            "[27607; 131; 0.69]\t| 0.8580\t\t\t| 0.0081\t\t\t| 0.8461\t\t\t| 0.8700\t\t\t| 0.8602\t\t\t| 1.0056\t\t\t| 0.8580\t\t\t| 0.0081\t\t\t| 0.8461\t\t\t| 0.8700\t\t\t| 0.8602\t\t\t| 1.0088\t\t\t| \n",
            "[26761; 207; 0.12]\t| 0.8933\t\t\t| 0.0072\t\t\t| 0.8789\t\t\t| 0.9032\t\t\t| 0.8957\t\t\t| 1.2685\t\t\t| 0.8933\t\t\t| 0.0072\t\t\t| 0.8789\t\t\t| 0.9032\t\t\t| 0.8957\t\t\t| 1.2620\t\t\t| \n",
            "[19666; 225; 0.34]\t| 0.7890\t\t\t| 0.0140\t\t\t| 0.7564\t\t\t| 0.8053\t\t\t| 0.7928\t\t\t| 1.0069\t\t\t| 0.7890\t\t\t| 0.0140\t\t\t| 0.7564\t\t\t| 0.8053\t\t\t| 0.7928\t\t\t| 1.1003\t\t\t| \n",
            "[17414; 132; 0.04]\t| 0.9384\t\t\t| 0.0049\t\t\t| 0.9294\t\t\t| 0.9443\t\t\t| 0.9397\t\t\t| 0.4590\t\t\t| 0.9384\t\t\t| 0.0049\t\t\t| 0.9294\t\t\t| 0.9443\t\t\t| 0.9397\t\t\t| 0.4618\t\t\t| \n",
            "[13185; 034; 0.55]\t| 0.8215\t\t\t| 0.0177\t\t\t| 0.7862\t\t\t| 0.8437\t\t\t| 0.8249\t\t\t| 0.2158\t\t\t| 0.8215\t\t\t| 0.0177\t\t\t| 0.7862\t\t\t| 0.8437\t\t\t| 0.8249\t\t\t| 0.2151\t\t\t| \n",
            "[27279; 223; 0.26]\t| 0.8491\t\t\t| 0.0084\t\t\t| 0.8328\t\t\t| 0.8603\t\t\t| 0.8490\t\t\t| 1.5643\t\t\t| 0.8491\t\t\t| 0.0084\t\t\t| 0.8328\t\t\t| 0.8603\t\t\t| 0.8490\t\t\t| 1.6159\t\t\t| \n",
            "[21464; 225; 0.39]\t| 0.8159\t\t\t| 0.0128\t\t\t| 0.7922\t\t\t| 0.8308\t\t\t| 0.8197\t\t\t| 1.6174\t\t\t| 0.8159\t\t\t| 0.0128\t\t\t| 0.7922\t\t\t| 0.8308\t\t\t| 0.8197\t\t\t| 1.5715\t\t\t| \n",
            "[11436; 122; 0.78]\t| 0.8513\t\t\t| 0.0120\t\t\t| 0.8320\t\t\t| 0.8723\t\t\t| 0.8518\t\t\t| 0.3116\t\t\t| 0.8513\t\t\t| 0.0120\t\t\t| 0.8320\t\t\t| 0.8723\t\t\t| 0.8518\t\t\t| 0.3114\t\t\t| \n",
            "[17557; 125; 0.63]\t| 0.8124\t\t\t| 0.0203\t\t\t| 0.7732\t\t\t| 0.8405\t\t\t| 0.8152\t\t\t| 0.7371\t\t\t| 0.8124\t\t\t| 0.0203\t\t\t| 0.7732\t\t\t| 0.8405\t\t\t| 0.8152\t\t\t| 0.7284\t\t\t| \n",
            "[28923; 222; 0.04]\t| 0.9418\t\t\t| 0.0040\t\t\t| 0.9361\t\t\t| 0.9485\t\t\t| 0.9410\t\t\t| 1.4782\t\t\t| 0.9418\t\t\t| 0.0040\t\t\t| 0.9361\t\t\t| 0.9485\t\t\t| 0.9410\t\t\t| 1.4770\t\t\t| \n",
            "[02236; 075; 0.44]\t| 0.8748\t\t\t| 0.0179\t\t\t| 0.8571\t\t\t| 0.9238\t\t\t| 0.8705\t\t\t| 0.0586\t\t\t| 0.8748\t\t\t| 0.0179\t\t\t| 0.8571\t\t\t| 0.9238\t\t\t| 0.8705\t\t\t| 0.0585\t\t\t| \n",
            "[13173; 075; 0.01]\t| 0.9724\t\t\t| 0.0071\t\t\t| 0.9582\t\t\t| 0.9863\t\t\t| 0.9734\t\t\t| 0.3412\t\t\t| 0.9724\t\t\t| 0.0071\t\t\t| 0.9582\t\t\t| 0.9863\t\t\t| 0.9734\t\t\t| 0.3559\t\t\t| \n",
            "[00790; 170; 0.82]\t| 0.8354\t\t\t| 0.0435\t\t\t| 0.7595\t\t\t| 0.8987\t\t\t| 0.8418\t\t\t| 0.0885\t\t\t| 0.8354\t\t\t| 0.0435\t\t\t| 0.7595\t\t\t| 0.8987\t\t\t| 0.8418\t\t\t| 0.0887\t\t\t| \n",
            "[08166; 166; 0.50]\t| 0.8125\t\t\t| 0.0160\t\t\t| 0.7868\t\t\t| 0.8397\t\t\t| 0.8126\t\t\t| 0.2988\t\t\t| 0.8125\t\t\t| 0.0160\t\t\t| 0.7868\t\t\t| 0.8397\t\t\t| 0.8126\t\t\t| 0.3007\t\t\t| \n"
          ],
          "name": "stdout"
        }
      ]
    },
    {
      "cell_type": "markdown",
      "metadata": {
        "id": "db9LyZ7v6MOQ",
        "colab_type": "text"
      },
      "source": [
        "Na tabela acima é possível observar um desempenho similar entre o algoritmo Perceptron implementado de forma customizada e utilizado do *sklearn*, exceto pelo tempo de execução da etapa de treinamento/validação."
      ]
    }
  ]
}